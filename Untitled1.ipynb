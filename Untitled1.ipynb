{
  "nbformat": 4,
  "nbformat_minor": 0,
  "metadata": {
    "colab": {
      "name": "Untitled1.ipynb",
      "provenance": [],
      "authorship_tag": "ABX9TyMkqGBPYTacmNnyl/TC9PP8",
      "include_colab_link": true
    },
    "kernelspec": {
      "name": "python3",
      "display_name": "Python 3"
    },
    "language_info": {
      "name": "python"
    }
  },
  "cells": [
    {
      "cell_type": "markdown",
      "metadata": {
        "id": "view-in-github",
        "colab_type": "text"
      },
      "source": [
        "<a href=\"https://colab.research.google.com/github/MileneLima/FlexBox/blob/master/Untitled1.ipynb\" target=\"_parent\"><img src=\"https://colab.research.google.com/assets/colab-badge.svg\" alt=\"Open In Colab\"/></a>"
      ]
    },
    {
      "cell_type": "code",
      "metadata": {
        "colab": {
          "base_uri": "https://localhost:8080/"
        },
        "id": "APwKCuLDIPJL",
        "outputId": "fb40b46e-dd25-468c-9458-2e7ee8166d67"
      },
      "source": [
        "#Atividade 1\n",
        "print(\"Hello World\")"
      ],
      "execution_count": null,
      "outputs": [
        {
          "output_type": "stream",
          "text": [
            "Hello World\n"
          ],
          "name": "stdout"
        }
      ]
    },
    {
      "cell_type": "code",
      "metadata": {
        "colab": {
          "base_uri": "https://localhost:8080/"
        },
        "id": "Kt9e3Sr9ISyj",
        "outputId": "82d5cc91-61bc-4f85-ee17-1d723d33946c"
      },
      "source": [
        "#Atividade 2\n",
        "print(\"Insira um número: \")\n",
        "x = input()\n",
        "print(\"O número é: \", x)"
      ],
      "execution_count": null,
      "outputs": [
        {
          "output_type": "stream",
          "text": [
            "Insira um número: \n",
            "1\n",
            "O número é:  1\n"
          ],
          "name": "stdout"
        }
      ]
    },
    {
      "cell_type": "code",
      "metadata": {
        "colab": {
          "base_uri": "https://localhost:8080/"
        },
        "id": "_yD_si2sIy9d",
        "outputId": "74e43255-c1f8-4f43-96a7-5b3401fadcd6"
      },
      "source": [
        "#Atividade 3\n",
        "print(\"Número 1: \")\n",
        "x = int(input())\n",
        "print(\"Número 2: \")\n",
        "y = int(input())\n",
        "print(\"A soma é:\", x + y)"
      ],
      "execution_count": null,
      "outputs": [
        {
          "output_type": "stream",
          "text": [
            "Número 1: \n",
            "5\n",
            "Número 2: \n",
            "9\n",
            "A soma é: 14\n"
          ],
          "name": "stdout"
        }
      ]
    },
    {
      "cell_type": "code",
      "metadata": {
        "colab": {
          "base_uri": "https://localhost:8080/"
        },
        "id": "zumT5ucNKK9b",
        "outputId": "3eeb5b61-13a7-4bbb-fa5c-47449a1fb06a"
      },
      "source": [
        "#Atividade 4\n",
        "print(\"Nota 1: \")\n",
        "n1 = int(input())\n",
        "print(\"Nota 2: \")\n",
        "n2 = int(input())\n",
        "print(\"Nota 3: \")\n",
        "n3 = int(input())\n",
        "print(\"Nota 4: \")\n",
        "n4 = int(input())\n",
        "media = (n1 + n2 + n3 + n4) / 4\n",
        "print(\"A média é: \", media) "
      ],
      "execution_count": null,
      "outputs": [
        {
          "output_type": "stream",
          "text": [
            "Nota 1: \n",
            "2\n",
            "Nota 2: \n",
            "5\n",
            "Nota 3: \n",
            "6\n",
            "Nota 4: \n",
            "8\n",
            "A média é:  5.25\n"
          ],
          "name": "stdout"
        }
      ]
    },
    {
      "cell_type": "code",
      "metadata": {
        "colab": {
          "base_uri": "https://localhost:8080/"
        },
        "id": "6pz9WmkrLH7y",
        "outputId": "c3a728ef-d6da-434e-9596-e16a5f4f61b5"
      },
      "source": [
        "#Atividade 5\n",
        "print(\"Insira um valor em metros: \")\n",
        "x = float(input())\n",
        "cm = x * 100\n",
        "print(\"O valor em centímetros é: \", cm)"
      ],
      "execution_count": null,
      "outputs": [
        {
          "output_type": "stream",
          "text": [
            "Insira um valor em metros: \n",
            "10\n",
            "O valor em centímetros é:  1000.0\n"
          ],
          "name": "stdout"
        }
      ]
    },
    {
      "cell_type": "code",
      "metadata": {
        "colab": {
          "base_uri": "https://localhost:8080/"
        },
        "id": "Kt_KjIYmMH-z",
        "outputId": "e00f3811-02d9-4861-bfa0-6d014a8a6441"
      },
      "source": [
        "#Atividade 6\n",
        "print(\"Insira o raio de um circulo: \")\n",
        "raio = int(input())\n",
        "area = 3.14 * (raio ** 2)\n",
        "print(\"A área é: \", area)\n"
      ],
      "execution_count": null,
      "outputs": [
        {
          "output_type": "stream",
          "text": [
            "Insira o raio de um circulo\n",
            "4\n",
            "A área é:  50.24\n"
          ],
          "name": "stdout"
        }
      ]
    },
    {
      "cell_type": "code",
      "metadata": {
        "colab": {
          "base_uri": "https://localhost:8080/"
        },
        "id": "Su5fphw3PPga",
        "outputId": "d5737dda-f28a-4f09-e6fd-4b486dd4c978"
      },
      "source": [
        "#Atividade 7\n",
        "print(\"Insira o lado de um quadrado: \")\n",
        "l = int(input())\n",
        "area = l * l \n",
        "area2 = area * 2\n",
        "print(\"A área de um quadrado é: \", area)\n",
        "print(\"A área do quadrado ao quadrado é: \", area2)"
      ],
      "execution_count": null,
      "outputs": [
        {
          "output_type": "stream",
          "text": [
            "Insira o lado de um quadrado: \n",
            "15\n",
            "A área de um quadrado é:  225\n",
            "A área do quadrado ao quadrado é:  450\n"
          ],
          "name": "stdout"
        }
      ]
    },
    {
      "cell_type": "code",
      "metadata": {
        "colab": {
          "base_uri": "https://localhost:8080/"
        },
        "id": "dfzDAOxqQbMy",
        "outputId": "bedf7a9f-e3f7-4f89-e61c-97544e57dbc1"
      },
      "source": [
        "#Atividade 8\n",
        "print(\"Valor salário hora: \")\n",
        "v = float(input())\n",
        "print(\"Número de horas trabalhadas no mês: \")\n",
        "h = int(input())\n",
        "salario = v * h\n",
        "print(\"Seu salário é: \", salario)"
      ],
      "execution_count": null,
      "outputs": [
        {
          "output_type": "stream",
          "text": [
            "Valor salário hora: \n",
            "5\n",
            "Número de horas trabalhadas no mês: \n",
            "65\n",
            "Seu salário é:  325.0\n"
          ],
          "name": "stdout"
        }
      ]
    },
    {
      "cell_type": "code",
      "metadata": {
        "colab": {
          "base_uri": "https://localhost:8080/"
        },
        "id": "l8x8xewtRBmS",
        "outputId": "cd72b79f-54ed-4152-a4a6-4d137e1d1ba9"
      },
      "source": [
        "#Atividade 9\n",
        "print(\"Informe a temperatura (Fahrenheit): \")\n",
        "F = int(input())\n",
        "C = (F - 32) / 1.8\n",
        "print(\"A temperatura em graus Celsius é: \", C)"
      ],
      "execution_count": null,
      "outputs": [
        {
          "output_type": "stream",
          "text": [
            "Informe a temperatura (Fahrenheit): \n",
            "130\n",
            "A temperatura em graus Celsius é:  54.44444444444444\n"
          ],
          "name": "stdout"
        }
      ]
    },
    {
      "cell_type": "code",
      "metadata": {
        "colab": {
          "base_uri": "https://localhost:8080/"
        },
        "id": "BUvLv8TdR4yd",
        "outputId": "f58753f6-7de7-4106-c78c-b4801157fbbb"
      },
      "source": [
        "#Atividade 10\n",
        "print(\"Informe a temperatura (Celsius): \")\n",
        "C = int(input())\n",
        "F = C * 1.8 + 32\n",
        "print(\"A temperatura em graus Fahrenheit é: \", F)"
      ],
      "execution_count": null,
      "outputs": [
        {
          "output_type": "stream",
          "text": [
            "Informe a temperatura (Celsius): \n",
            "10\n",
            "A temperatura em graus Fahrenheit é:  50.0\n"
          ],
          "name": "stdout"
        }
      ]
    },
    {
      "cell_type": "code",
      "metadata": {
        "colab": {
          "base_uri": "https://localhost:8080/"
        },
        "id": "1zEKTrkhSW-z",
        "outputId": "be57dc03-771c-433b-dcb3-7f4b8a514e4d"
      },
      "source": [
        "#Atividade 11\n",
        "print(\"Número inteiro: \")\n",
        "x = int(input())\n",
        "print(\"Número inteiro: \")\n",
        "y = int(input())\n",
        "print(\"Número real: \")\n",
        "z = float(input())\n",
        "a = (x * 2) + (y / 2)\n",
        "b = (x * 3) + z \n",
        "c = z ** 3 \n",
        "print(\"A: \", a)\n",
        "print(\"B: \", b)\n",
        "print(\"C: \", c)"
      ],
      "execution_count": null,
      "outputs": [
        {
          "output_type": "stream",
          "text": [
            "Número inteiro: \n",
            "10\n",
            "Número inteiro: \n",
            "20\n",
            "Número real: \n",
            "30\n",
            "A:  30.0\n",
            "B:  60.0\n",
            "C:  27000.0\n"
          ],
          "name": "stdout"
        }
      ]
    },
    {
      "cell_type": "code",
      "metadata": {
        "colab": {
          "base_uri": "https://localhost:8080/"
        },
        "id": "6kkC2gOwaY_t",
        "outputId": "48f1a7c0-739a-4d0a-b8c3-25cce52d55c2"
      },
      "source": [
        "#Atividade 12\n",
        "print(\"Informe sua altura: \")\n",
        "alt = float(input())\n",
        "altI = (72.7 * alt) - 58\n",
        "print(\"Seu peso ideal é: \", altI)"
      ],
      "execution_count": null,
      "outputs": [
        {
          "output_type": "stream",
          "text": [
            "Informe sua altura: \n",
            "1.65\n",
            "Seu peso ideal é:  61.955\n"
          ],
          "name": "stdout"
        }
      ]
    },
    {
      "cell_type": "code",
      "metadata": {
        "colab": {
          "base_uri": "https://localhost:8080/"
        },
        "id": "edSLd-DObw92",
        "outputId": "7b03cdb8-8003-4704-def9-1a6345172665"
      },
      "source": [
        "#Atividade 13\n",
        "print(\"Informe sua altura: \")\n",
        "alt = float(input())\n",
        "a =  (72.7 * alt) - 58\n",
        "b = (62.1 * alt) - 44.7\n",
        "print(\"Masculino, seu peso ideal é: \", a)\n",
        "print(\"Feminino, seu peso ideal é: \", b)"
      ],
      "execution_count": null,
      "outputs": [
        {
          "output_type": "stream",
          "text": [
            "Informe sua altura: \n",
            "1.65\n",
            "Masculino, seu peso ideal é:  61.955\n",
            "Feminino, seu peso ideal é:  57.765\n"
          ],
          "name": "stdout"
        }
      ]
    },
    {
      "cell_type": "code",
      "metadata": {
        "colab": {
          "base_uri": "https://localhost:8080/"
        },
        "id": "-MabW6cCcYzV",
        "outputId": "1d37eb00-aa17-4a69-e712-14bd3222189a"
      },
      "source": [
        "#Atividade 14\n",
        "print(\"Quantidade em KG de peixes: \")\n",
        "peso = int(input())\n",
        "if peso > 50:\n",
        "  multa = peso * 4\n",
        "  excesso = peso - 50\n",
        "  print(\"O valor a ser pago é: \", multa, \"reais.\")\n",
        "  print(\"O excesso foi: \", excesso)\n",
        "else: \n",
        "  print(\"Você não terá taxas.\")"
      ],
      "execution_count": null,
      "outputs": [
        {
          "output_type": "stream",
          "text": [
            "Quantidade em KG de peixes: \n",
            "65\n",
            "O valor a ser pago é:  260 reais.\n",
            "O excesso foi:  15\n"
          ],
          "name": "stdout"
        }
      ]
    },
    {
      "cell_type": "code",
      "metadata": {
        "colab": {
          "base_uri": "https://localhost:8080/"
        },
        "id": "J03FJl8Fe5ZM",
        "outputId": "efa47f62-27ed-4e74-8da8-d2d168624750"
      },
      "source": [
        "#Atividade 15\n",
        "print(\"Valor salário hora: \")\n",
        "v = float(input())\n",
        "print(\"Número de horas trabalhadas no mês: \")\n",
        "h = int(input())\n",
        "a = v * h #bruto\n",
        "b = a * 0.08 #inss\n",
        "c = a * 0.05 #sindicato\n",
        "i = a * 0.11 #imposto\n",
        "d = a - b - c - i\n",
        "print(\"O salario bruto é:\", a) \n",
        "print(\"Valor a ser pago ao INSS:\", b)\n",
        "print(\"Valor a ser pago ao Sindicato:\", c)\n",
        "print(\"Valor a ser pago ao Imposto de renda:\", i)\n",
        "print(\"O salário liquido é: \", d)"
      ],
      "execution_count": null,
      "outputs": [
        {
          "output_type": "stream",
          "text": [
            "Valor salário hora: \n",
            "6.25\n",
            "Número de horas trabalhadas no mês: \n",
            "8\n",
            "O salario bruto é: 50.0\n",
            "Valor a ser pago ao INSS: 4.0\n",
            "Valor a ser pago ao Sindicato: 2.5\n",
            "Valor a ser pago ao Imposto de renda: 5.5\n",
            "O salário liquido é:  38.0\n"
          ],
          "name": "stdout"
        }
      ]
    },
    {
      "cell_type": "code",
      "metadata": {
        "colab": {
          "base_uri": "https://localhost:8080/"
        },
        "id": "ydZyxSh0iGjy",
        "outputId": "c39ab548-5f4a-4676-e889-f904c1405e05"
      },
      "source": [
        "#Atividade 16\n",
        "lata = int(18)\n",
        "print(\"Qual o tamanho da área a ser pintada: \")\n",
        "area = int(input())\n",
        "qt = area / 3\n",
        "qtl = qt / lata\n",
        "valor = qtl * 80\n",
        "print(\"Você irá precisar de:\", qtl, \"de latas.\")\n",
        "print(\"O valor total será de:\", valor)"
      ],
      "execution_count": null,
      "outputs": [
        {
          "output_type": "stream",
          "text": [
            "Qual o tamanho da área a ser pintada: \n",
            "1000\n",
            "Você irá precisar de: 18.51851851851852 de latas.\n",
            "O valor total será de: 1481.4814814814815\n"
          ],
          "name": "stdout"
        }
      ]
    },
    {
      "cell_type": "code",
      "metadata": {
        "id": "RrSWGo5ynBFT"
      },
      "source": [
        "#Atividade 17\n"
      ],
      "execution_count": null,
      "outputs": []
    },
    {
      "cell_type": "code",
      "metadata": {
        "colab": {
          "base_uri": "https://localhost:8080/"
        },
        "id": "NCfISBVUnsAc",
        "outputId": "8f80d31d-25f8-48e4-c23e-4b6344ed3d21"
      },
      "source": [
        "#Atividade 18\n",
        "print(\"Informe o tamanho do arquivo (MB): \")\n",
        "arq = float(input())\n",
        "print(\"Informe a velocidade do link (Mbps): \")\n",
        "vel = float(input())\n",
        "tempo = arq / (vel / 8)\n",
        "print(\"O tempo em segundos será de:\", tempo)"
      ],
      "execution_count": null,
      "outputs": [
        {
          "output_type": "stream",
          "text": [
            "Informe o tamanho do arquivo (MB): \n",
            "15\n",
            "Informe a velocidade do link (Mbps): \n",
            "10\n",
            "O tempo em segundos será de: 12.0\n"
          ],
          "name": "stdout"
        }
      ]
    }
  ]
}